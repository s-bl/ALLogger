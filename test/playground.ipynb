{
 "cells": [
  {
   "cell_type": "code",
   "execution_count": null,
   "metadata": {
    "ExecuteTime": {
     "end_time": "2020-04-20T09:47:57.191091Z",
     "start_time": "2020-04-20T09:47:57.182113Z"
    },
    "scrolled": true
   },
   "outputs": [],
   "source": [
    "import allogger\n",
    "from glob import glob\n",
    "import numpy as np"
   ]
  },
  {
   "cell_type": "code",
   "execution_count": null,
   "metadata": {
    "ExecuteTime": {
     "end_time": "2020-04-20T09:47:44.093511Z",
     "start_time": "2020-04-20T09:47:44.059972Z"
    }
   },
   "outputs": [],
   "source": [
    "allogger.basic_configure('/tmp/test', ['tensorboard'])"
   ]
  },
  {
   "cell_type": "code",
   "execution_count": null,
   "metadata": {
    "ExecuteTime": {
     "end_time": "2020-04-20T09:47:44.662367Z",
     "start_time": "2020-04-20T09:47:44.653905Z"
    }
   },
   "outputs": [],
   "source": [
    "logger1 = allogger.get_logger('main')\n",
    "logger2 = allogger.get_logger('Controller')"
   ]
  },
  {
   "cell_type": "code",
   "execution_count": null,
   "metadata": {
    "ExecuteTime": {
     "end_time": "2020-04-20T09:49:50.184041Z",
     "start_time": "2020-04-20T09:49:48.536670Z"
    },
    "scrolled": false
   },
   "outputs": [],
   "source": [
    "for _ in range(100):\n",
    "    logger1.log(np.random.randn()*5, 'reward')\n",
    "    \n",
    "logger2.log(1e-10, 'loss')"
   ]
  },
  {
   "cell_type": "code",
   "execution_count": null,
   "metadata": {
    "ExecuteTime": {
     "end_time": "2020-04-20T09:47:58.760710Z",
     "start_time": "2020-04-20T09:47:58.749337Z"
    }
   },
   "outputs": [],
   "source": [
    "hdf_log_file = sorted(glob('/tmp/test/events/*.h5'))[-1]"
   ]
  },
  {
   "cell_type": "code",
   "execution_count": null,
   "metadata": {
    "ExecuteTime": {
     "end_time": "2020-04-20T09:49:44.926908Z",
     "start_time": "2020-04-20T09:49:44.901815Z"
    }
   },
   "outputs": [],
   "source": [
    "allogger.api.hdf.list_keys(hdf_log_file)"
   ]
  },
  {
   "cell_type": "code",
   "execution_count": null,
   "metadata": {
    "ExecuteTime": {
     "end_time": "2020-04-20T09:49:52.352832Z",
     "start_time": "2020-04-20T09:49:52.278670Z"
    }
   },
   "outputs": [],
   "source": [
    "allogger.api.hdf.read_from_key(hdf_log_file, '/scalar/main/reward')"
   ]
  },
  {
   "cell_type": "code",
   "execution_count": null,
   "metadata": {
    "ExecuteTime": {
     "end_time": "2020-04-20T09:49:56.919135Z",
     "start_time": "2020-04-20T09:49:56.861012Z"
    }
   },
   "outputs": [],
   "source": [
    "allogger.api.hdf.read_from_key(hdf_log_file, '/scalar/Controller/loss')"
   ]
  },
  {
   "cell_type": "code",
   "execution_count": null,
   "metadata": {},
   "outputs": [],
   "source": []
  }
 ],
 "metadata": {
  "kernelspec": {
   "display_name": "Python 3",
   "language": "python",
   "name": "python3"
  },
  "language_info": {
   "codemirror_mode": {
    "name": "ipython",
    "version": 3
   },
   "file_extension": ".py",
   "mimetype": "text/x-python",
   "name": "python",
   "nbconvert_exporter": "python",
   "pygments_lexer": "ipython3",
   "version": "3.7.6"
  }
 },
 "nbformat": 4,
 "nbformat_minor": 4
}
