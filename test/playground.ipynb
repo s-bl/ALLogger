{
 "cells": [
  {
   "cell_type": "code",
   "execution_count": null,
   "metadata": {
    "ExecuteTime": {
     "end_time": "2020-09-10T08:52:32.053249Z",
     "start_time": "2020-09-10T08:52:32.049549Z"
    },
    "scrolled": true
   },
   "outputs": [],
   "source": [
    "import allogger\n",
    "from glob import glob\n",
    "import numpy as np\n",
    "import matplotlib.pyplot as plt\n",
    "import h5py\n",
    "from pandas import HDFStore, read_hdf, DataFrame\n",
    "from time import sleep"
   ]
  },
  {
   "cell_type": "code",
   "execution_count": null,
   "metadata": {
    "ExecuteTime": {
     "end_time": "2020-09-09T15:25:23.640456Z",
     "start_time": "2020-09-09T15:25:23.616641Z"
    }
   },
   "outputs": [],
   "source": [
    "hdf_writer = allogger.writers.HDFWriter(scope='root',\n",
    "                                        output_dir='/tmp/test2',\n",
    "                                        debug=True,\n",
    "                                        precision=3,\n",
    "                                        min_time_diff_btw_disc_writes=10\n",
    "                                       )"
   ]
  },
  {
   "cell_type": "code",
   "execution_count": null,
   "metadata": {
    "ExecuteTime": {
     "end_time": "2020-09-09T15:07:45.914336Z",
     "start_time": "2020-09-09T15:07:25.833067Z"
    },
    "scrolled": true
   },
   "outputs": [],
   "source": [
    "for k in range(10):\n",
    "    hdf_writer.add_array('main', np.random.randn(5,5), k)\n",
    "    sleep(2)"
   ]
  },
  {
   "cell_type": "code",
   "execution_count": null,
   "metadata": {
    "ExecuteTime": {
     "end_time": "2020-09-09T14:51:38.552169Z",
     "start_time": "2020-09-09T14:51:38.547768Z"
    }
   },
   "outputs": [],
   "source": [
    "data[]"
   ]
  },
  {
   "cell_type": "code",
   "execution_count": null,
   "metadata": {
    "ExecuteTime": {
     "end_time": "2020-09-09T14:51:46.633886Z",
     "start_time": "2020-09-09T14:51:46.628654Z"
    }
   },
   "outputs": [],
   "source": [
    "[d[:-1] + [np.asarray(d[-1])] for d in data][0]"
   ]
  },
  {
   "cell_type": "code",
   "execution_count": null,
   "metadata": {
    "ExecuteTime": {
     "end_time": "2020-09-09T14:54:04.644259Z",
     "start_time": "2020-09-09T14:54:04.638883Z"
    }
   },
   "outputs": [],
   "source": [
    "[d[:3] for d in data]"
   ]
  },
  {
   "cell_type": "code",
   "execution_count": null,
   "metadata": {
    "ExecuteTime": {
     "end_time": "2020-09-09T15:00:17.920590Z",
     "start_time": "2020-09-09T15:00:17.913235Z"
    }
   },
   "outputs": [],
   "source": [
    "data = list(hdf_writer.data[('array', 'main')])\n",
    "dd = np.array([tuple(d[:3] + [np.asarray(d[-1])]) for d in data], dtype=[('step', np.int32), ('time', np.float32), ('walltime', np.float32), ('value', 'f', (5,5))])"
   ]
  },
  {
   "cell_type": "code",
   "execution_count": null,
   "metadata": {
    "ExecuteTime": {
     "end_time": "2020-09-09T15:01:13.194950Z",
     "start_time": "2020-09-09T15:01:13.190877Z"
    }
   },
   "outputs": [],
   "source": [
    "dd.shape"
   ]
  },
  {
   "cell_type": "code",
   "execution_count": null,
   "metadata": {
    "ExecuteTime": {
     "end_time": "2020-09-09T12:23:18.494730Z",
     "start_time": "2020-09-09T12:23:18.490013Z"
    }
   },
   "outputs": [],
   "source": [
    "np.random.randn(5,5).tolist()"
   ]
  },
  {
   "cell_type": "code",
   "execution_count": null,
   "metadata": {
    "ExecuteTime": {
     "end_time": "2020-09-09T15:01:18.236722Z",
     "start_time": "2020-09-09T15:01:18.231071Z"
    }
   },
   "outputs": [],
   "source": [
    "with h5py.File('/tmp/test.h5', 'a') as hf:\n",
    "    hf.create_dataset('main_structure', data=dd, compression=\"gzip\", chunks=True, maxshape=(None,))"
   ]
  },
  {
   "cell_type": "code",
   "execution_count": null,
   "metadata": {
    "ExecuteTime": {
     "end_time": "2020-09-09T12:09:12.463278Z",
     "start_time": "2020-09-09T12:09:12.456845Z"
    }
   },
   "outputs": [],
   "source": [
    "with HDFStore('/tmp/test.h5') as hf:\n",
    "    print(hf.keys())"
   ]
  },
  {
   "cell_type": "code",
   "execution_count": null,
   "metadata": {
    "ExecuteTime": {
     "end_time": "2020-09-09T12:10:24.781153Z",
     "start_time": "2020-09-09T12:10:24.766245Z"
    }
   },
   "outputs": [],
   "source": [
    "read_hdf('/tmp/test.h5', '/a')"
   ]
  },
  {
   "cell_type": "code",
   "execution_count": null,
   "metadata": {
    "ExecuteTime": {
     "end_time": "2020-09-09T12:27:18.165156Z",
     "start_time": "2020-09-09T12:27:18.160697Z"
    }
   },
   "outputs": [],
   "source": [
    "with h5py.File('/tmp/test.h5','r') as hf:\n",
    "    d = np.asarray(hf['main_structure'])"
   ]
  },
  {
   "cell_type": "code",
   "execution_count": null,
   "metadata": {
    "ExecuteTime": {
     "end_time": "2020-09-09T12:27:23.573621Z",
     "start_time": "2020-09-09T12:27:23.568845Z"
    }
   },
   "outputs": [],
   "source": [
    "d"
   ]
  },
  {
   "cell_type": "code",
   "execution_count": null,
   "metadata": {
    "ExecuteTime": {
     "end_time": "2020-09-10T08:52:06.190088Z",
     "start_time": "2020-09-10T08:52:06.186089Z"
    }
   },
   "outputs": [],
   "source": [
    "f = h5py.File('/tmp/test2/1599664045_olef.h5','r')"
   ]
  },
  {
   "cell_type": "code",
   "execution_count": 1,
   "metadata": {
    "ExecuteTime": {
     "end_time": "2020-09-10T09:04:25.695712Z",
     "start_time": "2020-09-10T09:04:24.869528Z"
    }
   },
   "outputs": [],
   "source": [
    "from allogger.api.hdf import list_keys, read_from_key"
   ]
  },
  {
   "cell_type": "code",
   "execution_count": 3,
   "metadata": {
    "ExecuteTime": {
     "end_time": "2020-09-10T09:04:41.497532Z",
     "start_time": "2020-09-10T09:04:41.493162Z"
    }
   },
   "outputs": [
    {
     "name": "stdout",
     "output_type": "stream",
     "text": [
      "Scalars:\n",
      "\tscalar/main/value\n",
      "Histograms:\n",
      "\t\n",
      "Images:\n",
      "\timage/main/blub\n",
      "Arrays:\n",
      "\tarray/main/array\n"
     ]
    }
   ],
   "source": [
    "list_keys('/tmp/allogger/singleprocess/events/')"
   ]
  },
  {
   "cell_type": "code",
   "execution_count": 5,
   "metadata": {
    "ExecuteTime": {
     "end_time": "2020-09-10T09:05:22.948501Z",
     "start_time": "2020-09-10T09:05:22.940162Z"
    }
   },
   "outputs": [
    {
     "name": "stdout",
     "output_type": "stream",
     "text": [
      "Extracting array/main/array from /tmp/allogger/singleprocess/events/1599728641_olef.h5, index 1 to 2\n",
      "Extracting array/main/array from /tmp/allogger/singleprocess/events/1599728647_olef.h5, index 3 to 4\n"
     ]
    },
    {
     "data": {
      "text/plain": [
       "array([(1, 1.5997286e+09, 0.18847704, [0.57209736, 0.19657135, 0.33563513, 0.42212707, 0.6939575 , 0.38301194, 0.81312007, 0.9191271 , 0.6769541 , 0.29943466]),\n",
       "       (2, 1.5997286e+09, 0.19188333, [0.18390137, 0.9127461 , 0.6952091 , 0.59830284, 0.19839406, 0.53561366, 0.96443564, 0.4421027 , 0.75147235, 0.87266904]),\n",
       "       (3, 1.5997286e+09, 0.1724546 , [0.01704452, 0.7801265 , 0.63691926, 0.80484134, 0.14251846, 0.14371775, 0.46925902, 0.30906627, 0.03446801, 0.25995463]),\n",
       "       (4, 1.5997286e+09, 0.17462516, [0.5693623 , 0.54100597, 0.4598227 , 0.8644922 , 0.1624588 , 0.8294232 , 0.35767025, 0.59986913, 0.39141417, 0.59386337])],\n",
       "      dtype=[('step', '<i4'), ('time', '<f4'), ('walltime', '<f4'), ('value', '<f4', (10,))])"
      ]
     },
     "execution_count": 5,
     "metadata": {},
     "output_type": "execute_result"
    }
   ],
   "source": [
    "read_from_key('/tmp/allogger/singleprocess/events/', 'array/main/array')"
   ]
  },
  {
   "cell_type": "code",
   "execution_count": null,
   "metadata": {
    "ExecuteTime": {
     "end_time": "2020-09-10T08:48:33.497743Z",
     "start_time": "2020-09-10T08:48:33.490574Z"
    }
   },
   "outputs": [],
   "source": [
    "f['array'].keys()"
   ]
  },
  {
   "cell_type": "code",
   "execution_count": null,
   "metadata": {
    "ExecuteTime": {
     "end_time": "2020-09-10T08:52:09.069140Z",
     "start_time": "2020-09-10T08:52:09.065871Z"
    }
   },
   "outputs": [],
   "source": [
    "a = f['array']['main']"
   ]
  },
  {
   "cell_type": "code",
   "execution_count": null,
   "metadata": {
    "ExecuteTime": {
     "end_time": "2020-09-10T08:57:13.747308Z",
     "start_time": "2020-09-10T08:57:13.742448Z"
    }
   },
   "outputs": [],
   "source": [
    "f['array/main']"
   ]
  },
  {
   "cell_type": "code",
   "execution_count": null,
   "metadata": {
    "ExecuteTime": {
     "end_time": "2020-09-10T08:50:17.410646Z",
     "start_time": "2020-09-10T08:50:17.406478Z"
    }
   },
   "outputs": [],
   "source": [
    "isinstance(a, h5py.Dataset)"
   ]
  },
  {
   "cell_type": "code",
   "execution_count": null,
   "metadata": {
    "ExecuteTime": {
     "end_time": "2020-09-10T08:56:47.436025Z",
     "start_time": "2020-09-10T08:56:47.431640Z"
    }
   },
   "outputs": [],
   "source": [
    "np.array(a)['step']"
   ]
  },
  {
   "cell_type": "code",
   "execution_count": null,
   "metadata": {
    "ExecuteTime": {
     "end_time": "2020-09-10T08:34:29.036528Z",
     "start_time": "2020-09-10T08:34:29.033661Z"
    }
   },
   "outputs": [],
   "source": [
    "def print_foo(name):\n",
    "    print(name)"
   ]
  },
  {
   "cell_type": "code",
   "execution_count": null,
   "metadata": {
    "ExecuteTime": {
     "end_time": "2020-09-10T08:35:07.798225Z",
     "start_time": "2020-09-10T08:35:07.791991Z"
    }
   },
   "outputs": [],
   "source": [
    "f.visit(print_foo)"
   ]
  },
  {
   "cell_type": "code",
   "execution_count": null,
   "metadata": {
    "ExecuteTime": {
     "end_time": "2020-09-09T15:26:08.994788Z",
     "start_time": "2020-09-09T15:26:08.991760Z"
    }
   },
   "outputs": [],
   "source": [
    "f.close()"
   ]
  },
  {
   "cell_type": "code",
   "execution_count": null,
   "metadata": {
    "ExecuteTime": {
     "end_time": "2020-09-09T15:16:48.628672Z",
     "start_time": "2020-09-09T15:16:48.621557Z"
    }
   },
   "outputs": [],
   "source": [
    "list(f['image']['main']['blub'])"
   ]
  },
  {
   "cell_type": "code",
   "execution_count": null,
   "metadata": {
    "ExecuteTime": {
     "end_time": "2020-09-09T15:10:27.273890Z",
     "start_time": "2020-09-09T15:10:27.266220Z"
    }
   },
   "outputs": [],
   "source": [
    "list(d)[0]"
   ]
  },
  {
   "cell_type": "code",
   "execution_count": null,
   "metadata": {
    "ExecuteTime": {
     "end_time": "2020-09-09T12:14:18.739008Z",
     "start_time": "2020-09-09T12:14:18.733910Z"
    }
   },
   "outputs": [],
   "source": [
    "f.keys()"
   ]
  },
  {
   "cell_type": "code",
   "execution_count": null,
   "metadata": {
    "ExecuteTime": {
     "end_time": "2020-09-09T12:13:43.109639Z",
     "start_time": "2020-09-09T12:13:43.103465Z"
    }
   },
   "outputs": [],
   "source": [
    "np.asarray(d)"
   ]
  },
  {
   "cell_type": "code",
   "execution_count": null,
   "metadata": {
    "ExecuteTime": {
     "end_time": "2020-04-20T10:32:05.164318Z",
     "start_time": "2020-04-20T10:32:05.117508Z"
    }
   },
   "outputs": [],
   "source": [
    "allogger.basic_configure('/tmp/test', ['tensorboard'])"
   ]
  },
  {
   "cell_type": "code",
   "execution_count": null,
   "metadata": {
    "ExecuteTime": {
     "end_time": "2020-04-20T10:32:05.180680Z",
     "start_time": "2020-04-20T10:32:05.171923Z"
    }
   },
   "outputs": [],
   "source": [
    "logger1 = allogger.get_logger('main')\n",
    "logger2 = allogger.get_logger('Controller')"
   ]
  },
  {
   "cell_type": "code",
   "execution_count": null,
   "metadata": {
    "ExecuteTime": {
     "end_time": "2020-04-20T09:49:50.184041Z",
     "start_time": "2020-04-20T09:49:48.536670Z"
    },
    "scrolled": false
   },
   "outputs": [],
   "source": [
    "for _ in range(100):\n",
    "    logger1.log(np.random.randn()*5, 'reward')\n",
    "    \n",
    "logger2.log(1e-10, 'loss')"
   ]
  },
  {
   "cell_type": "code",
   "execution_count": null,
   "metadata": {
    "ExecuteTime": {
     "end_time": "2020-04-20T10:28:02.792560Z",
     "start_time": "2020-04-20T10:28:02.780717Z"
    }
   },
   "outputs": [],
   "source": [
    "logger2.hdf_writer.write_to_disc(force=True)"
   ]
  },
  {
   "cell_type": "code",
   "execution_count": null,
   "metadata": {
    "ExecuteTime": {
     "end_time": "2020-04-20T12:08:01.503127Z",
     "start_time": "2020-04-20T12:08:01.500273Z"
    }
   },
   "outputs": [],
   "source": [
    "hdf_log_file = sorted(glob('/tmp/al/events/*.h5'))[-1]"
   ]
  },
  {
   "cell_type": "code",
   "execution_count": null,
   "metadata": {
    "ExecuteTime": {
     "end_time": "2020-04-20T12:08:02.321291Z",
     "start_time": "2020-04-20T12:08:02.309045Z"
    }
   },
   "outputs": [],
   "source": [
    "allogger.api.hdf.list_keys(hdf_log_file)"
   ]
  },
  {
   "cell_type": "code",
   "execution_count": null,
   "metadata": {
    "ExecuteTime": {
     "end_time": "2020-04-20T12:10:19.546530Z",
     "start_time": "2020-04-20T12:10:19.312413Z"
    }
   },
   "outputs": [],
   "source": [
    "plt.plot(allogger.api.hdf.read_from_key(hdf_log_file, '/scalar/main/eval_mean_return')['value'])"
   ]
  },
  {
   "cell_type": "code",
   "execution_count": null,
   "metadata": {
    "ExecuteTime": {
     "end_time": "2020-04-20T10:46:02.562187Z",
     "start_time": "2020-04-20T10:46:02.530142Z"
    }
   },
   "outputs": [],
   "source": [
    "None or 'wurst'"
   ]
  },
  {
   "cell_type": "code",
   "execution_count": null,
   "metadata": {
    "ExecuteTime": {
     "end_time": "2020-06-24T12:28:20.804000Z",
     "start_time": "2020-06-24T12:28:20.798769Z"
    }
   },
   "outputs": [],
   "source": [
    "a = np.random.rand(5,5)"
   ]
  },
  {
   "cell_type": "code",
   "execution_count": null,
   "metadata": {
    "ExecuteTime": {
     "end_time": "2020-06-24T12:28:24.379657Z",
     "start_time": "2020-06-24T12:28:24.371800Z"
    }
   },
   "outputs": [],
   "source": [
    "str(a)"
   ]
  },
  {
   "cell_type": "code",
   "execution_count": null,
   "metadata": {
    "ExecuteTime": {
     "end_time": "2020-06-25T08:39:53.810557Z",
     "start_time": "2020-06-25T08:39:53.801564Z"
    }
   },
   "outputs": [],
   "source": [
    "str(a.round(-1))"
   ]
  },
  {
   "cell_type": "code",
   "execution_count": null,
   "metadata": {
    "ExecuteTime": {
     "end_time": "2020-06-25T09:34:31.840155Z",
     "start_time": "2020-06-25T09:34:31.829869Z"
    }
   },
   "outputs": [],
   "source": [
    "allogger.api.hdf.list_keys('/tmp/allogger/singleprocess/events/')"
   ]
  },
  {
   "cell_type": "code",
   "execution_count": null,
   "metadata": {
    "ExecuteTime": {
     "end_time": "2020-06-25T09:34:33.399779Z",
     "start_time": "2020-06-25T09:34:33.375267Z"
    }
   },
   "outputs": [],
   "source": [
    "allogger.api.hdf.read_from_key('/tmp/allogger/singleprocess/events/', '/image/main/blub')"
   ]
  },
  {
   "cell_type": "code",
   "execution_count": null,
   "metadata": {
    "ExecuteTime": {
     "end_time": "2020-09-10T08:30:11.943225Z",
     "start_time": "2020-09-10T08:30:10.740153Z"
    }
   },
   "outputs": [],
   "source": [
    "from allogger.api.hdf import flatten_keys"
   ]
  },
  {
   "cell_type": "code",
   "execution_count": null,
   "metadata": {
    "ExecuteTime": {
     "end_time": "2020-09-10T08:30:12.422146Z",
     "start_time": "2020-09-10T08:30:12.395345Z"
    }
   },
   "outputs": [],
   "source": [
    "flatten_keys({'bla': {'blub': 1, 'bli': 2}})"
   ]
  },
  {
   "cell_type": "code",
   "execution_count": null,
   "metadata": {},
   "outputs": [],
   "source": []
  }
 ],
 "metadata": {
  "kernelspec": {
   "display_name": "Python 3",
   "language": "python",
   "name": "python3"
  },
  "language_info": {
   "codemirror_mode": {
    "name": "ipython",
    "version": 3
   },
   "file_extension": ".py",
   "mimetype": "text/x-python",
   "name": "python",
   "nbconvert_exporter": "python",
   "pygments_lexer": "ipython3",
   "version": "3.7.5"
  },
  "toc": {
   "base_numbering": 1,
   "nav_menu": {},
   "number_sections": true,
   "sideBar": true,
   "skip_h1_title": false,
   "title_cell": "Table of Contents",
   "title_sidebar": "Contents",
   "toc_cell": false,
   "toc_position": {},
   "toc_section_display": true,
   "toc_window_display": false
  }
 },
 "nbformat": 4,
 "nbformat_minor": 4
}
