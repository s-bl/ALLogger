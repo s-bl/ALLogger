{
 "cells": [
  {
   "cell_type": "code",
   "execution_count": 14,
   "metadata": {
    "ExecuteTime": {
     "end_time": "2020-04-20T12:09:22.948906Z",
     "start_time": "2020-04-20T12:09:22.756337Z"
    },
    "scrolled": true
   },
   "outputs": [],
   "source": [
    "import allogger\n",
    "from glob import glob\n",
    "import numpy as np\n",
    "import matplotlib.pyplot as plt"
   ]
  },
  {
   "cell_type": "code",
   "execution_count": null,
   "metadata": {
    "ExecuteTime": {
     "end_time": "2020-04-20T10:32:05.164318Z",
     "start_time": "2020-04-20T10:32:05.117508Z"
    }
   },
   "outputs": [],
   "source": [
    "allogger.basic_configure('/tmp/test', ['tensorboard'])"
   ]
  },
  {
   "cell_type": "code",
   "execution_count": null,
   "metadata": {
    "ExecuteTime": {
     "end_time": "2020-04-20T10:32:05.180680Z",
     "start_time": "2020-04-20T10:32:05.171923Z"
    }
   },
   "outputs": [],
   "source": [
    "logger1 = allogger.get_logger('main')\n",
    "logger2 = allogger.get_logger('Controller')"
   ]
  },
  {
   "cell_type": "code",
   "execution_count": null,
   "metadata": {
    "ExecuteTime": {
     "end_time": "2020-04-20T09:49:50.184041Z",
     "start_time": "2020-04-20T09:49:48.536670Z"
    },
    "scrolled": false
   },
   "outputs": [],
   "source": [
    "for _ in range(100):\n",
    "    logger1.log(np.random.randn()*5, 'reward')\n",
    "    \n",
    "logger2.log(1e-10, 'loss')"
   ]
  },
  {
   "cell_type": "code",
   "execution_count": null,
   "metadata": {
    "ExecuteTime": {
     "end_time": "2020-04-20T10:28:02.792560Z",
     "start_time": "2020-04-20T10:28:02.780717Z"
    }
   },
   "outputs": [],
   "source": [
    "logger2.hdf_writer.write_to_disc(force=True)"
   ]
  },
  {
   "cell_type": "code",
   "execution_count": 10,
   "metadata": {
    "ExecuteTime": {
     "end_time": "2020-04-20T12:08:01.503127Z",
     "start_time": "2020-04-20T12:08:01.500273Z"
    }
   },
   "outputs": [],
   "source": [
    "hdf_log_file = sorted(glob('/tmp/al/events/*.h5'))[-1]"
   ]
  },
  {
   "cell_type": "code",
   "execution_count": 11,
   "metadata": {
    "ExecuteTime": {
     "end_time": "2020-04-20T12:08:02.321291Z",
     "start_time": "2020-04-20T12:08:02.309045Z"
    }
   },
   "outputs": [
    {
     "name": "stdout",
     "output_type": "stream",
     "text": [
      "Scalars:\n",
      "\t/scalar/main/eval_mean_return\n",
      "\t/scalar/DDPG/train/Q\n",
      "\t/scalar/DDPG/train/Q_loss\n",
      "\t/scalar/DDPG/train/pi_loss\n",
      "\t/scalar/DDPG/train/target_Q\n",
      "Histograms\n",
      "\t\n",
      "Images\n",
      "\t\n"
     ]
    }
   ],
   "source": [
    "allogger.api.hdf.list_keys(hdf_log_file)"
   ]
  },
  {
   "cell_type": "code",
   "execution_count": 21,
   "metadata": {
    "ExecuteTime": {
     "end_time": "2020-04-20T12:10:19.546530Z",
     "start_time": "2020-04-20T12:10:19.312413Z"
    }
   },
   "outputs": [
    {
     "data": {
      "text/plain": [
       "[<matplotlib.lines.Line2D at 0x7fcb08100e90>]"
      ]
     },
     "execution_count": 21,
     "metadata": {},
     "output_type": "execute_result"
    },
    {
     "data": {
      "image/png": "[encoded data removed]",
      "text/plain": [
       "<Figure size 432x288 with 1 Axes>"
      ]
     },
     "metadata": {
      "needs_background": "light"
     },
     "output_type": "display_data"
    }
   ],
   "source": [
    "plt.plot(allogger.api.hdf.read_from_key(hdf_log_file, '/scalar/main/eval_mean_return')['value'])"
   ]
  },
  {
   "cell_type": "code",
   "execution_count": null,
   "metadata": {
    "ExecuteTime": {
     "end_time": "2020-04-20T10:46:02.562187Z",
     "start_time": "2020-04-20T10:46:02.530142Z"
    }
   },
   "outputs": [],
   "source": [
    "None or 'wurst'"
   ]
  },
  {
   "cell_type": "code",
   "execution_count": null,
   "metadata": {},
   "outputs": [],
   "source": []
  }
 ],
 "metadata": {
  "kernelspec": {
   "display_name": "Python 3",
   "language": "python",
   "name": "python3"
  },
  "language_info": {
   "codemirror_mode": {
    "name": "ipython",
    "version": 3
   },
   "file_extension": ".py",
   "mimetype": "text/x-python",
   "name": "python",
   "nbconvert_exporter": "python",
   "pygments_lexer": "ipython3",
   "version": "3.7.6"
  }
 },
 "nbformat": 4,
 "nbformat_minor": 4
}