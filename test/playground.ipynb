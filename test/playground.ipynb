{
 "cells": [
  {
   "cell_type": "code",
   "execution_count": null,
   "metadata": {
    "ExecuteTime": {
     "end_time": "2020-04-20T10:27:19.015702Z",
     "start_time": "2020-04-20T10:27:18.283601Z"
    },
    "scrolled": true
   },
   "outputs": [],
   "source": [
    "import allogger\n",
    "from glob import glob\n",
    "import numpy as np"
   ]
  },
  {
   "cell_type": "code",
   "execution_count": null,
   "metadata": {
    "ExecuteTime": {
     "end_time": "2020-04-20T10:27:19.656074Z",
     "start_time": "2020-04-20T10:27:19.578661Z"
    }
   },
   "outputs": [],
   "source": [
    "allogger.basic_configure('/tmp/test', ['tensorboard'])"
   ]
  },
  {
   "cell_type": "code",
   "execution_count": null,
   "metadata": {
    "ExecuteTime": {
     "end_time": "2020-04-20T10:27:21.388123Z",
     "start_time": "2020-04-20T10:27:21.380450Z"
    }
   },
   "outputs": [],
   "source": [
    "logger1 = allogger.get_logger('main')\n",
    "logger2 = allogger.get_logger('Controller')"
   ]
  },
  {
   "cell_type": "code",
   "execution_count": null,
   "metadata": {
    "ExecuteTime": {
     "end_time": "2020-04-20T09:49:50.184041Z",
     "start_time": "2020-04-20T09:49:48.536670Z"
    },
    "scrolled": false
   },
   "outputs": [],
   "source": [
    "for _ in range(100):\n",
    "    logger1.log(np.random.randn()*5, 'reward')\n",
    "    \n",
    "logger2.log(1e-10, 'loss')"
   ]
  },
  {
   "cell_type": "code",
   "execution_count": null,
   "metadata": {
    "ExecuteTime": {
     "end_time": "2020-04-20T10:28:02.792560Z",
     "start_time": "2020-04-20T10:28:02.780717Z"
    }
   },
   "outputs": [],
   "source": [
    "logger2.hdf_writer.write_to_disc(force=True)"
   ]
  },
  {
   "cell_type": "code",
   "execution_count": null,
   "metadata": {
    "ExecuteTime": {
     "end_time": "2020-04-20T10:27:44.771546Z",
     "start_time": "2020-04-20T10:27:44.757918Z"
    }
   },
   "outputs": [],
   "source": [
    "hdf_log_file = sorted(glob('/tmp/test/events/*.h5'))[-1]"
   ]
  },
  {
   "cell_type": "code",
   "execution_count": null,
   "metadata": {
    "ExecuteTime": {
     "end_time": "2020-04-20T10:27:46.171571Z",
     "start_time": "2020-04-20T10:27:46.140447Z"
    }
   },
   "outputs": [],
   "source": [
    "allogger.api.hdf.list_keys(hdf_log_file)"
   ]
  },
  {
   "cell_type": "code",
   "execution_count": null,
   "metadata": {
    "ExecuteTime": {
     "end_time": "2020-04-20T10:28:04.267216Z",
     "start_time": "2020-04-20T10:28:04.199613Z"
    }
   },
   "outputs": [],
   "source": [
    "allogger.api.hdf.read_from_key(hdf_log_file, '/scalar/Controller/loss')"
   ]
  },
  {
   "cell_type": "code",
   "execution_count": null,
   "metadata": {},
   "outputs": [],
   "source": []
  }
 ],
 "metadata": {
  "kernelspec": {
   "display_name": "Python 3",
   "language": "python",
   "name": "python3"
  },
  "language_info": {
   "codemirror_mode": {
    "name": "ipython",
    "version": 3
   },
   "file_extension": ".py",
   "mimetype": "text/x-python",
   "name": "python",
   "nbconvert_exporter": "python",
   "pygments_lexer": "ipython3",
   "version": "3.7.6"
  }
 },
 "nbformat": 4,
 "nbformat_minor": 4
}
